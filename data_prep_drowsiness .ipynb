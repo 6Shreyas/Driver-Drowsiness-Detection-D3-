{
 "cells": [
  {
   "cell_type": "code",
   "execution_count": 1,
   "metadata": {},
   "outputs": [],
   "source": [
    "import os\n",
    "import glob\n",
    "import shutil\n",
    "import random\n",
    "from tqdm import tqdm"
   ]
  },
  {
   "cell_type": "code",
   "execution_count": 2,
   "metadata": {},
   "outputs": [],
   "source": [
    "raw_data = '/home/delixus/Desktop/drowsiness_detection/mrlEyes_2018_01'\n",
    "for dirpath, dirname, filename in os.walk(raw_data):\n",
    "    for file in tqdm([f for f in filename if f.endswith('.png')]):\n",
    "        if file.split('_')[4] == '0':\n",
    "            path='/home/delixus/Desktop/drowsiness_detection/data/train/closed'\n",
    "            if not os.path.exists(path):\n",
    "                os.makedirs(path)\n",
    "            shutil.copy(src=dirpath + '/' + file, dst= path)\n",
    "        elif file.split('_')[4] == '1':\n",
    "            path='/home/delixus/Desktop/drowsiness_detection/data/train/open'\n",
    "            if not os.path.exists(path):\n",
    "                os.makedirs(path)\n",
    "            shutil.copy(src=dirpath + '/' + file, dst= path)        "
   ]
  },
  {
   "cell_type": "code",
   "execution_count": 3,
   "metadata": {},
   "outputs": [],
   "source": [
    "def create_test_closed(source, destination, percent):\n",
    "    '''\n",
    "    divides closed eyes images into given percent and moves from\n",
    "    source to destination.\n",
    "    \n",
    "    Arguments:\n",
    "    source(path): path of source directory\n",
    "    destination(path): path of destination directory\n",
    "    percent(float): percent of data to be divided(range: 0 to 1)\n",
    "    '''\n",
    "    path, dirs, files_closed = next(os.walk(source))\n",
    "    file_count_closed = len(files_closed)\n",
    "    percentage = file_count_closed * percent\n",
    "    to_move = random.sample(glob.glob(source + \"/*.png\"), int(percentage))\n",
    "\n",
    "    for f in enumerate(to_move):\n",
    "        if not os.path.exists(destination):\n",
    "            os.makedirs(destination)\n",
    "        shutil.move(f[1], destination)\n",
    "    print(f'moved {int(percentage)} images to the destination successfully.')    "
   ]
  },
  {
   "cell_type": "code",
   "execution_count": 4,
   "metadata": {},
   "outputs": [],
   "source": [
    "def create_test_open(source, destination, percent):\n",
    "    '''\n",
    "    divides open eyes images into given percent and moves from\n",
    "    source to destination.\n",
    "    \n",
    "    Arguments:\n",
    "    source(path): path of source directory\n",
    "    destination(path): path of destination directory\n",
    "    percent(float): percent of data to be divided(range: 0 to 1)\n",
    "    '''\n",
    "    path, dirs, files_open = next(os.walk(source))\n",
    "    file_count_open = len(files_open)\n",
    "    percentage = file_count_open * percent\n",
    "    to_move = random.sample(glob.glob(source + \"/*.png\"), int(percentage))\n",
    "\n",
    "    for f in enumerate(to_move):\n",
    "        if not os.path.exists(destination):\n",
    "            os.makedirs(destination)\n",
    "        shutil.move(f[1], destination)\n",
    "    print(f'moved {int(percentage)} images to the destination successfully.')"
   ]
  },
  {
   "cell_type": "code",
   "execution_count": 5,
   "metadata": {},
   "outputs": [
    {
     "ename": "StopIteration",
     "evalue": "",
     "output_type": "error",
     "traceback": [
      "\u001b[1;31m---------------------------------------------------------------------------\u001b[0m",
      "\u001b[1;31mStopIteration\u001b[0m                             Traceback (most recent call last)",
      "\u001b[1;32m~\\AppData\\Local\\Temp\\ipykernel_6176\\1432594430.py\u001b[0m in \u001b[0;36m<module>\u001b[1;34m\u001b[0m\n\u001b[1;32m----> 1\u001b[1;33m create_test_closed('/home/delixus/Desktop/drowsiness_detection/data/train/closed', \n\u001b[0m\u001b[0;32m      2\u001b[0m                     \u001b[1;34m'/home/delixus/Desktop/drowsiness_detection/data/test/closed'\u001b[0m\u001b[1;33m,\u001b[0m\u001b[1;33m\u001b[0m\u001b[1;33m\u001b[0m\u001b[0m\n\u001b[0;32m      3\u001b[0m                     0.2)\n",
      "\u001b[1;32m~\\AppData\\Local\\Temp\\ipykernel_6176\\1521687557.py\u001b[0m in \u001b[0;36mcreate_test_closed\u001b[1;34m(source, destination, percent)\u001b[0m\n\u001b[0;32m      9\u001b[0m     \u001b[0mpercent\u001b[0m\u001b[1;33m(\u001b[0m\u001b[0mfloat\u001b[0m\u001b[1;33m)\u001b[0m\u001b[1;33m:\u001b[0m \u001b[0mpercent\u001b[0m \u001b[0mof\u001b[0m \u001b[0mdata\u001b[0m \u001b[0mto\u001b[0m \u001b[0mbe\u001b[0m \u001b[0mdivided\u001b[0m\u001b[1;33m(\u001b[0m\u001b[0mrange\u001b[0m\u001b[1;33m:\u001b[0m \u001b[1;36m0\u001b[0m \u001b[0mto\u001b[0m \u001b[1;36m1\u001b[0m\u001b[1;33m)\u001b[0m\u001b[1;33m\u001b[0m\u001b[1;33m\u001b[0m\u001b[0m\n\u001b[0;32m     10\u001b[0m     '''\n\u001b[1;32m---> 11\u001b[1;33m     \u001b[0mpath\u001b[0m\u001b[1;33m,\u001b[0m \u001b[0mdirs\u001b[0m\u001b[1;33m,\u001b[0m \u001b[0mfiles_closed\u001b[0m \u001b[1;33m=\u001b[0m \u001b[0mnext\u001b[0m\u001b[1;33m(\u001b[0m\u001b[0mos\u001b[0m\u001b[1;33m.\u001b[0m\u001b[0mwalk\u001b[0m\u001b[1;33m(\u001b[0m\u001b[0msource\u001b[0m\u001b[1;33m)\u001b[0m\u001b[1;33m)\u001b[0m\u001b[1;33m\u001b[0m\u001b[1;33m\u001b[0m\u001b[0m\n\u001b[0m\u001b[0;32m     12\u001b[0m     \u001b[0mfile_count_closed\u001b[0m \u001b[1;33m=\u001b[0m \u001b[0mlen\u001b[0m\u001b[1;33m(\u001b[0m\u001b[0mfiles_closed\u001b[0m\u001b[1;33m)\u001b[0m\u001b[1;33m\u001b[0m\u001b[1;33m\u001b[0m\u001b[0m\n\u001b[0;32m     13\u001b[0m     \u001b[0mpercentage\u001b[0m \u001b[1;33m=\u001b[0m \u001b[0mfile_count_closed\u001b[0m \u001b[1;33m*\u001b[0m \u001b[0mpercent\u001b[0m\u001b[1;33m\u001b[0m\u001b[1;33m\u001b[0m\u001b[0m\n",
      "\u001b[1;31mStopIteration\u001b[0m: "
     ]
    }
   ],
   "source": [
    "create_test_closed('/home/delixus/Desktop/drowsiness_detection/data/train/closed', \n",
    "                    '/home/delixus/Desktop/drowsiness_detection/data/test/closed', \n",
    "                    0.2)"
   ]
  },
  {
   "cell_type": "code",
   "execution_count": 6,
   "metadata": {},
   "outputs": [
    {
     "ename": "StopIteration",
     "evalue": "",
     "output_type": "error",
     "traceback": [
      "\u001b[1;31m---------------------------------------------------------------------------\u001b[0m",
      "\u001b[1;31mStopIteration\u001b[0m                             Traceback (most recent call last)",
      "\u001b[1;32m~\\AppData\\Local\\Temp\\ipykernel_6176\\3996180606.py\u001b[0m in \u001b[0;36m<module>\u001b[1;34m\u001b[0m\n\u001b[1;32m----> 1\u001b[1;33m create_test_open('/home/delixus/Desktop/drowsiness_detection/data/train/open', \n\u001b[0m\u001b[0;32m      2\u001b[0m                     \u001b[1;34m'/home/delixus/Desktop/drowsiness_detection/data/test/open'\u001b[0m\u001b[1;33m,\u001b[0m\u001b[1;33m\u001b[0m\u001b[1;33m\u001b[0m\u001b[0m\n\u001b[0;32m      3\u001b[0m                     0.2)\n",
      "\u001b[1;32m~\\AppData\\Local\\Temp\\ipykernel_6176\\772764076.py\u001b[0m in \u001b[0;36mcreate_test_open\u001b[1;34m(source, destination, percent)\u001b[0m\n\u001b[0;32m      9\u001b[0m     \u001b[0mpercent\u001b[0m\u001b[1;33m(\u001b[0m\u001b[0mfloat\u001b[0m\u001b[1;33m)\u001b[0m\u001b[1;33m:\u001b[0m \u001b[0mpercent\u001b[0m \u001b[0mof\u001b[0m \u001b[0mdata\u001b[0m \u001b[0mto\u001b[0m \u001b[0mbe\u001b[0m \u001b[0mdivided\u001b[0m\u001b[1;33m(\u001b[0m\u001b[0mrange\u001b[0m\u001b[1;33m:\u001b[0m \u001b[1;36m0\u001b[0m \u001b[0mto\u001b[0m \u001b[1;36m1\u001b[0m\u001b[1;33m)\u001b[0m\u001b[1;33m\u001b[0m\u001b[1;33m\u001b[0m\u001b[0m\n\u001b[0;32m     10\u001b[0m     '''\n\u001b[1;32m---> 11\u001b[1;33m     \u001b[0mpath\u001b[0m\u001b[1;33m,\u001b[0m \u001b[0mdirs\u001b[0m\u001b[1;33m,\u001b[0m \u001b[0mfiles_open\u001b[0m \u001b[1;33m=\u001b[0m \u001b[0mnext\u001b[0m\u001b[1;33m(\u001b[0m\u001b[0mos\u001b[0m\u001b[1;33m.\u001b[0m\u001b[0mwalk\u001b[0m\u001b[1;33m(\u001b[0m\u001b[0msource\u001b[0m\u001b[1;33m)\u001b[0m\u001b[1;33m)\u001b[0m\u001b[1;33m\u001b[0m\u001b[1;33m\u001b[0m\u001b[0m\n\u001b[0m\u001b[0;32m     12\u001b[0m     \u001b[0mfile_count_open\u001b[0m \u001b[1;33m=\u001b[0m \u001b[0mlen\u001b[0m\u001b[1;33m(\u001b[0m\u001b[0mfiles_open\u001b[0m\u001b[1;33m)\u001b[0m\u001b[1;33m\u001b[0m\u001b[1;33m\u001b[0m\u001b[0m\n\u001b[0;32m     13\u001b[0m     \u001b[0mpercentage\u001b[0m \u001b[1;33m=\u001b[0m \u001b[0mfile_count_open\u001b[0m \u001b[1;33m*\u001b[0m \u001b[0mpercent\u001b[0m\u001b[1;33m\u001b[0m\u001b[1;33m\u001b[0m\u001b[0m\n",
      "\u001b[1;31mStopIteration\u001b[0m: "
     ]
    }
   ],
   "source": [
    "create_test_open('/home/delixus/Desktop/drowsiness_detection/data/train/open', \n",
    "                    '/home/delixus/Desktop/drowsiness_detection/data/test/open', \n",
    "                    0.2)"
   ]
  },
  {
   "cell_type": "code",
   "execution_count": null,
   "metadata": {},
   "outputs": [],
   "source": []
  }
 ],
 "metadata": {
  "kernelspec": {
   "display_name": "Python 3 (ipykernel)",
   "language": "python",
   "name": "python3"
  },
  "language_info": {
   "codemirror_mode": {
    "name": "ipython",
    "version": 3
   },
   "file_extension": ".py",
   "mimetype": "text/x-python",
   "name": "python",
   "nbconvert_exporter": "python",
   "pygments_lexer": "ipython3",
   "version": "3.9.13"
  }
 },
 "nbformat": 4,
 "nbformat_minor": 4
}
